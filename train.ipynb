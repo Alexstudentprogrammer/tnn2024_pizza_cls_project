{
 "cells": [
  {
   "cell_type": "code",
   "execution_count": 1,
   "id": "721c53f2-f591-4538-abc3-4197ac38d75b",
   "metadata": {
    "tags": []
   },
   "outputs": [],
   "source": [
    "from omegaconf import OmegaConf\n",
    "\n",
    "from train import train_pizza_classifier"
   ]
  },
  {
   "cell_type": "code",
   "execution_count": 2,
   "id": "20d90bf1-cbda-45b8-b20f-3aeb9cf60213",
   "metadata": {
    "tags": []
   },
   "outputs": [
    {
     "name": "stdout",
     "output_type": "stream",
     "text": [
      "{'data': {'train_csv': 'data/train.csv', 'classes_csv': 'data/classes.csv', 'train_img_dir': 'data/train_256', 'test_img_dir': 'data/test_256', 'image_size': 256, 'batch_size': 24, 'val_size': 0.25, 'num_workers': 0, 'stratify': False, 'random_state': 42}, 'model': {'architecture': 'polonskaya_model', 'num_classes': 46, 'dropout': 0.5}, 'training': {'epochs': 50, 'lr': 0.001, 'weight_decay': 0.002, 'max_patience': 5}}\n",
      "Using device: cpu\n",
      "num_classes from classes.csv = 46\n"
     ]
    },
    {
     "name": "stderr",
     "output_type": "stream",
     "text": [
      "Downloading: \"https://download.pytorch.org/models/resnet18-f37072fd.pth\" to /Users/ilyaivanov/.cache/torch/hub/checkpoints/resnet18-f37072fd.pth\n",
      "100%|██████████| 44.7M/44.7M [00:00<00:00, 58.5MB/s]\n"
     ]
    },
    {
     "name": "stdout",
     "output_type": "stream",
     "text": [
      "Epoch [1/50] | Train Loss: 1.6152 | Train Acc: 0.5463 | Val Loss: 1.7056 | Val Acc: 0.5374\n",
      "Epoch [2/50] | Train Loss: 1.0331 | Train Acc: 0.6835 | Val Loss: 1.5602 | Val Acc: 0.5542\n",
      "Epoch [3/50] | Train Loss: 0.8769 | Train Acc: 0.7406 | Val Loss: 1.1256 | Val Acc: 0.6532\n",
      "Epoch [4/50] | Train Loss: 0.7472 | Train Acc: 0.7846 | Val Loss: 1.3201 | Val Acc: 0.6196\n",
      "Epoch [5/50] | Train Loss: 0.6906 | Train Acc: 0.7908 | Val Loss: 1.0098 | Val Acc: 0.6837\n",
      "Epoch [6/50] | Train Loss: 0.5820 | Train Acc: 0.8391 | Val Loss: 0.6537 | Val Acc: 0.8138\n",
      "Epoch [7/50] | Train Loss: 0.5766 | Train Acc: 0.8408 | Val Loss: 1.1154 | Val Acc: 0.6501\n",
      "Epoch [8/50] | Train Loss: 0.5589 | Train Acc: 0.8441 | Val Loss: 0.6568 | Val Acc: 0.8313\n",
      "Epoch [9/50] | Train Loss: 0.5046 | Train Acc: 0.8622 | Val Loss: 1.0543 | Val Acc: 0.6526\n",
      "Epoch [10/50] | Train Loss: 0.3738 | Train Acc: 0.9074 | Val Loss: 0.6462 | Val Acc: 0.8213\n",
      "Epoch [11/50] | Train Loss: 0.3617 | Train Acc: 0.9097 | Val Loss: 0.4450 | Val Acc: 0.8904\n",
      "Epoch [12/50] | Train Loss: 0.3892 | Train Acc: 0.9000 | Val Loss: 0.4906 | Val Acc: 0.8686\n",
      "Epoch [13/50] | Train Loss: 0.3627 | Train Acc: 0.9103 | Val Loss: 0.5794 | Val Acc: 0.8337\n",
      "Epoch [14/50] | Train Loss: 0.3789 | Train Acc: 0.9027 | Val Loss: 0.4525 | Val Acc: 0.8773\n",
      "Epoch [15/50] | Train Loss: 0.2859 | Train Acc: 0.9323 | Val Loss: 0.3044 | Val Acc: 0.9365\n",
      "Epoch [16/50] | Train Loss: 0.2845 | Train Acc: 0.9340 | Val Loss: 0.4994 | Val Acc: 0.8580\n",
      "Epoch [17/50] | Train Loss: 0.2609 | Train Acc: 0.9411 | Val Loss: 0.3140 | Val Acc: 0.9203\n",
      "Epoch [18/50] | Train Loss: 0.2784 | Train Acc: 0.9350 | Val Loss: 0.2966 | Val Acc: 0.9278\n",
      "Epoch [19/50] | Train Loss: 0.2663 | Train Acc: 0.9367 | Val Loss: 0.7238 | Val Acc: 0.7895\n",
      "Epoch [20/50] | Train Loss: 0.2588 | Train Acc: 0.9363 | Val Loss: 0.4223 | Val Acc: 0.8854\n",
      "Epoch [21/50] | Train Loss: 0.2544 | Train Acc: 0.9419 | Val Loss: 0.5707 | Val Acc: 0.8518\n",
      "Epoch [22/50] | Train Loss: 0.2089 | Train Acc: 0.9550 | Val Loss: 0.2788 | Val Acc: 0.9396\n",
      "Epoch [23/50] | Train Loss: 0.1973 | Train Acc: 0.9606 | Val Loss: 0.2203 | Val Acc: 0.9539\n",
      "Epoch [24/50] | Train Loss: 0.1986 | Train Acc: 0.9572 | Val Loss: 0.2420 | Val Acc: 0.9446\n",
      "Epoch [25/50] | Train Loss: 0.1845 | Train Acc: 0.9626 | Val Loss: 0.2455 | Val Acc: 0.9458\n",
      "Epoch [26/50] | Train Loss: 0.1919 | Train Acc: 0.9591 | Val Loss: 0.3203 | Val Acc: 0.9191\n",
      "Epoch [27/50] | Train Loss: 0.1668 | Train Acc: 0.9672 | Val Loss: 0.2038 | Val Acc: 0.9614\n",
      "Epoch [28/50] | Train Loss: 0.1632 | Train Acc: 0.9691 | Val Loss: 0.2119 | Val Acc: 0.9583\n",
      "Epoch [29/50] | Train Loss: 0.1522 | Train Acc: 0.9714 | Val Loss: 0.2257 | Val Acc: 0.9489\n",
      "Epoch [30/50] | Train Loss: 0.1570 | Train Acc: 0.9703 | Val Loss: 0.2028 | Val Acc: 0.9601\n",
      "Epoch [31/50] | Train Loss: 0.1426 | Train Acc: 0.9738 | Val Loss: 0.2849 | Val Acc: 0.9278\n",
      "Epoch [32/50] | Train Loss: 0.1482 | Train Acc: 0.9711 | Val Loss: 0.2175 | Val Acc: 0.9564\n",
      "Epoch [33/50] | Train Loss: 0.1499 | Train Acc: 0.9705 | Val Loss: 0.2397 | Val Acc: 0.9433\n",
      "Epoch [34/50] | Train Loss: 0.1314 | Train Acc: 0.9747 | Val Loss: 0.2036 | Val Acc: 0.9570\n",
      "Epoch [35/50] | Train Loss: 0.1292 | Train Acc: 0.9772 | Val Loss: 0.2169 | Val Acc: 0.9589\n",
      "Early stopping triggered!\n",
      "Model saved in model_best.pth\n"
     ]
    }
   ],
   "source": [
    "config_path = 'configs/models_polonskaya.yaml'\n",
    "config = OmegaConf.load(config_path)\n",
    "print(config)\n",
    "train_pizza_classifier(config)"
   ]
  },
  {
   "cell_type": "code",
   "execution_count": null,
   "id": "57a6e8bb-0073-4045-a0e7-2f77b3f4fd3f",
   "metadata": {},
   "outputs": [],
   "source": []
  },
  {
   "cell_type": "markdown",
   "id": "5c7e7323-9450-46bf-8991-615ea95a1d40",
   "metadata": {},
   "source": [
    "План:\n",
    "\n",
    "Модель:\n",
    "Добавить одну свою модель в models.py + конфиг + get_model\n",
    "\n",
    "Обучение\n",
    "добавить параметры сохранения чекпоинтов: как часто, папку, куда сохранять + на ваше усмотрение\n",
    "! тензорборд\n",
    "\n",
    "везде добавить логгирование"
   ]
  }
 ],
 "metadata": {
  "kernelspec": {
   "display_name": "Python 3 (ipykernel)",
   "language": "python",
   "name": "python3"
  },
  "language_info": {
   "codemirror_mode": {
    "name": "ipython",
    "version": 3
   },
   "file_extension": ".py",
   "mimetype": "text/x-python",
   "name": "python",
   "nbconvert_exporter": "python",
   "pygments_lexer": "ipython3",
   "version": "3.11.5"
  }
 },
 "nbformat": 4,
 "nbformat_minor": 5
}
